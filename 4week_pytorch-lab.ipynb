{
 "cells": [
  {
   "cell_type": "code",
   "execution_count": 7,
   "id": "f6082a8f-f112-49cf-88df-7693a571be80",
   "metadata": {},
   "outputs": [],
   "source": [
    "# 4week 강의자료 pytorch lab\n",
    "# Intro to Pytorch Tensors"
   ]
  },
  {
   "cell_type": "code",
   "execution_count": 8,
   "id": "d7d32b07-f907-4cf0-97ca-9acb5dd399de",
   "metadata": {},
   "outputs": [],
   "source": [
    "import numpy as np\n",
    "import torch"
   ]
  },
  {
   "cell_type": "code",
   "execution_count": 9,
   "id": "5688afc4-8d2c-41ce-8f3e-bd570c6cbebb",
   "metadata": {},
   "outputs": [
    {
     "data": {
      "text/plain": [
       "array([1, 2, 3])"
      ]
     },
     "execution_count": 9,
     "metadata": {},
     "output_type": "execute_result"
    }
   ],
   "source": [
    "a = np.array([1,2,3])\n",
    "a"
   ]
  },
  {
   "cell_type": "code",
   "execution_count": 10,
   "id": "015c42d7-77ed-49ec-b713-0eb479f12e62",
   "metadata": {},
   "outputs": [],
   "source": [
    "# Torch Tensors"
   ]
  },
  {
   "cell_type": "code",
   "execution_count": 15,
   "id": "32c872d2-1412-4ebd-8f95-d9ec13cf1b9e",
   "metadata": {},
   "outputs": [
    {
     "data": {
      "text/plain": [
       "1"
      ]
     },
     "execution_count": 15,
     "metadata": {},
     "output_type": "execute_result"
    }
   ],
   "source": [
    "b = torch.tensor([1,2,3])\n",
    "b.ndim"
   ]
  },
  {
   "cell_type": "code",
   "execution_count": 21,
   "id": "9c867abb-7a39-47f2-be87-0638faf62f6e",
   "metadata": {},
   "outputs": [
    {
     "data": {
      "text/plain": [
       "2"
      ]
     },
     "execution_count": 21,
     "metadata": {},
     "output_type": "execute_result"
    }
   ],
   "source": [
    "z = torch.tensor([[1,2,3]])\n",
    "z.ndim"
   ]
  },
  {
   "cell_type": "code",
   "execution_count": 23,
   "id": "fe8c02ea-d401-4dd6-97a0-ae6a5492e23b",
   "metadata": {},
   "outputs": [
    {
     "data": {
      "text/plain": [
       "torch.Size([1, 3])"
      ]
     },
     "execution_count": 23,
     "metadata": {},
     "output_type": "execute_result"
    }
   ],
   "source": [
    "b.shape"
   ]
  },
  {
   "cell_type": "code",
   "execution_count": 13,
   "id": "3e1e9d38-c039-444d-9044-fcc5e2becdab",
   "metadata": {},
   "outputs": [
    {
     "data": {
      "text/plain": [
       "tensor([1, 2, 3], dtype=torch.int32)"
      ]
     },
     "execution_count": 13,
     "metadata": {},
     "output_type": "execute_result"
    }
   ],
   "source": [
    "c = torch.from_numpy(a)\n",
    "c"
   ]
  },
  {
   "cell_type": "code",
   "execution_count": 14,
   "id": "8e3ff9ef-d517-498f-8c0e-6ffc353419ba",
   "metadata": {},
   "outputs": [
    {
     "data": {
      "text/plain": [
       "torch.Size([3])"
      ]
     },
     "execution_count": 14,
     "metadata": {},
     "output_type": "execute_result"
    }
   ],
   "source": [
    "c.shape"
   ]
  },
  {
   "cell_type": "code",
   "execution_count": 25,
   "id": "96db3d67-f621-4411-ba64-d124544c9299",
   "metadata": {},
   "outputs": [
    {
     "data": {
      "text/plain": [
       "tensor([[1],\n",
       "        [3],\n",
       "        [4]])"
      ]
     },
     "execution_count": 25,
     "metadata": {},
     "output_type": "execute_result"
    }
   ],
   "source": [
    "d = torch.tensor([1,3,4]).reshape(-1,1) # reshape를 통해 column vector로 변경\n",
    "d"
   ]
  },
  {
   "cell_type": "code",
   "execution_count": 26,
   "id": "7125c9b0-72c5-45b9-8978-c31e705c6059",
   "metadata": {},
   "outputs": [
    {
     "data": {
      "text/plain": [
       "tensor([[1, 3, 4]])"
      ]
     },
     "execution_count": 26,
     "metadata": {},
     "output_type": "execute_result"
    }
   ],
   "source": [
    "d.T # 1차원이라x 2차원부터 전치 가능"
   ]
  },
  {
   "cell_type": "code",
   "execution_count": 28,
   "id": "c1162284-6f4c-4eef-bdab-f4b8465ae28f",
   "metadata": {},
   "outputs": [
    {
     "data": {
      "text/plain": [
       "tensor([[5, 6, 8],\n",
       "        [6, 7, 4]])"
      ]
     },
     "execution_count": 28,
     "metadata": {},
     "output_type": "execute_result"
    }
   ],
   "source": [
    "X = torch.tensor([[5,6,8],[6,7,4]])\n",
    "X"
   ]
  },
  {
   "cell_type": "code",
   "execution_count": 30,
   "id": "7fcf3227-223b-41bb-b19f-b937d3da73ff",
   "metadata": {},
   "outputs": [
    {
     "data": {
      "text/plain": [
       "tensor([[6],\n",
       "        [7]])"
      ]
     },
     "execution_count": 30,
     "metadata": {},
     "output_type": "execute_result"
    }
   ],
   "source": [
    "X[:,1].reshape(-1,1)"
   ]
  },
  {
   "cell_type": "code",
   "execution_count": 37,
   "id": "480d8bfa-900a-441b-8db9-36e3e8f44ea1",
   "metadata": {},
   "outputs": [],
   "source": [
    "#a = torch.tensor([[[1,2,3]]])\n",
    "a = torch.tensor([[[1,2,3]]], dtype = torch.float64)"
   ]
  },
  {
   "cell_type": "code",
   "execution_count": 38,
   "id": "c290186f-7426-4e03-be7c-da37264ccf99",
   "metadata": {},
   "outputs": [
    {
     "data": {
      "text/plain": [
       "3"
      ]
     },
     "execution_count": 38,
     "metadata": {},
     "output_type": "execute_result"
    }
   ],
   "source": [
    "a.ndim"
   ]
  },
  {
   "cell_type": "code",
   "execution_count": 39,
   "id": "5980e7cc-d0b7-4119-95b8-37e56049b2be",
   "metadata": {},
   "outputs": [
    {
     "data": {
      "text/plain": [
       "torch.Size([1, 1, 3])"
      ]
     },
     "execution_count": 39,
     "metadata": {},
     "output_type": "execute_result"
    }
   ],
   "source": [
    "a.shape"
   ]
  },
  {
   "cell_type": "code",
   "execution_count": 40,
   "id": "91cad54b-2f75-4762-a8f6-075d3d7eed28",
   "metadata": {},
   "outputs": [
    {
     "data": {
      "text/plain": [
       "torch.float64"
      ]
     },
     "execution_count": 40,
     "metadata": {},
     "output_type": "execute_result"
    }
   ],
   "source": [
    "a.dtype"
   ]
  },
  {
   "cell_type": "code",
   "execution_count": 43,
   "id": "7f9872d8-0014-425e-9837-a510a36656b5",
   "metadata": {},
   "outputs": [
    {
     "data": {
      "text/plain": [
       "device(type='cpu')"
      ]
     },
     "execution_count": 43,
     "metadata": {},
     "output_type": "execute_result"
    }
   ],
   "source": [
    "a.device # tensor가 현재 GPU에 올라가있는지 또는 CPU로 연산되는지 (지정 가능)"
   ]
  },
  {
   "cell_type": "code",
   "execution_count": 47,
   "id": "e3d25ad7-3190-4cf3-ad72-d9d910bba5e4",
   "metadata": {},
   "outputs": [
    {
     "data": {
      "text/plain": [
       "tensor([1., 2., 3., 4., 5.], device='cuda:0', dtype=torch.float64)"
      ]
     },
     "execution_count": 47,
     "metadata": {},
     "output_type": "execute_result"
    }
   ],
   "source": [
    "b = torch.tensor([1,2,3,4,5], dtype = torch.float64, device = 'cuda')\n",
    "b"
   ]
  },
  {
   "cell_type": "code",
   "execution_count": 54,
   "id": "5755acaf-5d4c-4839-99b7-36ab9081da97",
   "metadata": {},
   "outputs": [],
   "source": [
    "a = np.array([1.,2.,3.])"
   ]
  },
  {
   "cell_type": "code",
   "execution_count": 55,
   "id": "8944287b-7a5b-4874-9052-1b37982a9832",
   "metadata": {},
   "outputs": [
    {
     "data": {
      "text/plain": [
       "array([1., 2., 3.])"
      ]
     },
     "execution_count": 55,
     "metadata": {},
     "output_type": "execute_result"
    }
   ],
   "source": [
    "a"
   ]
  },
  {
   "cell_type": "code",
   "execution_count": 56,
   "id": "8d154265-1eb9-467d-a4bb-102506e87395",
   "metadata": {},
   "outputs": [],
   "source": [
    "# from_numpy : array -> torch\n",
    "b = torch.from_numpy(a) "
   ]
  },
  {
   "cell_type": "code",
   "execution_count": 57,
   "id": "a94658b6-7b2d-4e1a-8d71-ab9b66de26c6",
   "metadata": {},
   "outputs": [
    {
     "data": {
      "text/plain": [
       "tensor([1., 2., 3.], dtype=torch.float64)"
      ]
     },
     "execution_count": 57,
     "metadata": {},
     "output_type": "execute_result"
    }
   ],
   "source": [
    "b"
   ]
  },
  {
   "cell_type": "code",
   "execution_count": 62,
   "id": "c52fe4de-121e-4d38-b9b8-57a666d2d275",
   "metadata": {},
   "outputs": [],
   "source": [
    "# numpy() : torch -> array\n",
    "c = b.numpy()"
   ]
  },
  {
   "cell_type": "code",
   "execution_count": 63,
   "id": "25a290c8-3701-4b9e-9608-ad688ab480d0",
   "metadata": {},
   "outputs": [
    {
     "data": {
      "text/plain": [
       "array([1., 2., 3.])"
      ]
     },
     "execution_count": 63,
     "metadata": {},
     "output_type": "execute_result"
    }
   ],
   "source": [
    "c"
   ]
  },
  {
   "cell_type": "code",
   "execution_count": 64,
   "id": "30d6e49e-d842-4f24-9baa-89b622d7aedd",
   "metadata": {},
   "outputs": [],
   "source": [
    "X = torch.tensor([[1],[2],[3]])"
   ]
  },
  {
   "cell_type": "code",
   "execution_count": 65,
   "id": "45539a32-8fc8-4ac4-b2dd-ac33d9194d68",
   "metadata": {},
   "outputs": [
    {
     "data": {
      "text/plain": [
       "tensor([[1],\n",
       "        [2],\n",
       "        [3]])"
      ]
     },
     "execution_count": 65,
     "metadata": {},
     "output_type": "execute_result"
    }
   ],
   "source": [
    "X # column vector"
   ]
  },
  {
   "cell_type": "code",
   "execution_count": 66,
   "id": "ff6f5671-99e4-40ff-90ca-68790da39899",
   "metadata": {},
   "outputs": [
    {
     "data": {
      "text/plain": [
       "torch.Size([3, 1])"
      ]
     },
     "execution_count": 66,
     "metadata": {},
     "output_type": "execute_result"
    }
   ],
   "source": [
    "X.shape"
   ]
  },
  {
   "cell_type": "code",
   "execution_count": 67,
   "id": "f79a537e-6f5c-41c3-a435-8aa16eb30cc9",
   "metadata": {},
   "outputs": [
    {
     "data": {
      "text/plain": [
       "tensor([1, 2, 3])"
      ]
     },
     "execution_count": 67,
     "metadata": {},
     "output_type": "execute_result"
    }
   ],
   "source": [
    "X.reshape(3) # 1차원으로 변경"
   ]
  },
  {
   "cell_type": "code",
   "execution_count": 68,
   "id": "909b4fc1-640c-4fa0-bc26-45bfceec5419",
   "metadata": {},
   "outputs": [
    {
     "data": {
      "text/plain": [
       "tensor([[1],\n",
       "        [2],\n",
       "        [3]])"
      ]
     },
     "execution_count": 68,
     "metadata": {},
     "output_type": "execute_result"
    }
   ],
   "source": [
    "X.reshape(3,1)"
   ]
  },
  {
   "cell_type": "code",
   "execution_count": 69,
   "id": "3147dfd9-4cc5-450d-9dc0-b0a386f97699",
   "metadata": {},
   "outputs": [
    {
     "data": {
      "text/plain": [
       "torch.Size([3, 1])"
      ]
     },
     "execution_count": 69,
     "metadata": {},
     "output_type": "execute_result"
    }
   ],
   "source": [
    "X.shape # 튜플이나 리스트가 아닌 torch.Size로 "
   ]
  },
  {
   "cell_type": "code",
   "execution_count": 70,
   "id": "4d51f7f2-4374-482b-a570-926c5c043be7",
   "metadata": {},
   "outputs": [
    {
     "data": {
      "text/plain": [
       "(3,)"
      ]
     },
     "execution_count": 70,
     "metadata": {},
     "output_type": "execute_result"
    }
   ],
   "source": [
    "a.shape"
   ]
  },
  {
   "cell_type": "code",
   "execution_count": 74,
   "id": "bbe570e7-16bc-498f-819c-e371dadeea82",
   "metadata": {},
   "outputs": [
    {
     "data": {
      "text/plain": [
       "tensor([[1., 2., 3.],\n",
       "        [4., 5., 6.]])"
      ]
     },
     "execution_count": 74,
     "metadata": {},
     "output_type": "execute_result"
    }
   ],
   "source": [
    "X = torch.tensor([[1., 2., 3.],\n",
    "            [4., 5., 6.]])\n",
    "X"
   ]
  },
  {
   "cell_type": "code",
   "execution_count": 75,
   "id": "2995288c-cb89-4965-8571-88989ebf0ca2",
   "metadata": {},
   "outputs": [
    {
     "data": {
      "text/plain": [
       "torch.Size([2, 3])"
      ]
     },
     "execution_count": 75,
     "metadata": {},
     "output_type": "execute_result"
    }
   ],
   "source": [
    "X.shape"
   ]
  },
  {
   "cell_type": "code",
   "execution_count": 77,
   "id": "c4ba9a3e-2b1f-444d-bd3c-7db7e4793204",
   "metadata": {},
   "outputs": [
    {
     "data": {
      "text/plain": [
       "tensor([[1., 4.],\n",
       "        [2., 5.],\n",
       "        [3., 6.]])"
      ]
     },
     "execution_count": 77,
     "metadata": {},
     "output_type": "execute_result"
    }
   ],
   "source": [
    "X.T"
   ]
  },
  {
   "cell_type": "code",
   "execution_count": 79,
   "id": "ebbfa278-46bf-4fe4-8ba6-775760ae6006",
   "metadata": {},
   "outputs": [
    {
     "data": {
      "text/plain": [
       "tensor([[1., 2.],\n",
       "        [3., 4.],\n",
       "        [5., 6.]])"
      ]
     },
     "execution_count": 79,
     "metadata": {},
     "output_type": "execute_result"
    }
   ],
   "source": [
    "X.reshape(3,2)"
   ]
  },
  {
   "cell_type": "code",
   "execution_count": 80,
   "id": "8e66f466-4a7c-4c14-985c-b99a37fad677",
   "metadata": {},
   "outputs": [
    {
     "data": {
      "text/plain": [
       "tensor([1., 2., 3., 4., 5., 6.])"
      ]
     },
     "execution_count": 80,
     "metadata": {},
     "output_type": "execute_result"
    }
   ],
   "source": [
    "X.reshape(6)"
   ]
  },
  {
   "cell_type": "code",
   "execution_count": 82,
   "id": "2f20aec5-296d-4368-80d9-e14f56214aeb",
   "metadata": {},
   "outputs": [
    {
     "data": {
      "text/plain": [
       "tensor([[1.],\n",
       "        [2.],\n",
       "        [3.],\n",
       "        [4.],\n",
       "        [5.],\n",
       "        [6.]])"
      ]
     },
     "execution_count": 82,
     "metadata": {},
     "output_type": "execute_result"
    }
   ],
   "source": [
    "A = X.reshape(6,1)\n",
    "A"
   ]
  },
  {
   "cell_type": "code",
   "execution_count": 83,
   "id": "876019e8-c860-458d-9338-8dc7dafd6f21",
   "metadata": {},
   "outputs": [],
   "source": [
    "# vector transpose 주의점"
   ]
  },
  {
   "cell_type": "code",
   "execution_count": 84,
   "id": "af707063-8284-47a4-888e-ca095a746445",
   "metadata": {},
   "outputs": [],
   "source": [
    "a = torch.tensor([1,2,3])"
   ]
  },
  {
   "cell_type": "code",
   "execution_count": 85,
   "id": "9570ef8d-cf77-44bf-95e5-024fad179679",
   "metadata": {},
   "outputs": [
    {
     "data": {
      "text/plain": [
       "tensor([1, 2, 3])"
      ]
     },
     "execution_count": 85,
     "metadata": {},
     "output_type": "execute_result"
    }
   ],
   "source": [
    "a.T"
   ]
  },
  {
   "cell_type": "code",
   "execution_count": 86,
   "id": "95cb567e-1c96-4173-8d65-580d8cd1e41d",
   "metadata": {},
   "outputs": [
    {
     "data": {
      "text/plain": [
       "1"
      ]
     },
     "execution_count": 86,
     "metadata": {},
     "output_type": "execute_result"
    }
   ],
   "source": [
    "a.ndim"
   ]
  },
  {
   "cell_type": "code",
   "execution_count": 87,
   "id": "a2dc95fd-b387-4172-8bb0-8f1df47402b1",
   "metadata": {},
   "outputs": [],
   "source": [
    "b = torch.tensor([[1,2,3]])"
   ]
  },
  {
   "cell_type": "code",
   "execution_count": 88,
   "id": "19f88179-abd4-4a0e-a5cd-1d473cb23e4a",
   "metadata": {},
   "outputs": [
    {
     "data": {
      "text/plain": [
       "tensor([[1, 2, 3]])"
      ]
     },
     "execution_count": 88,
     "metadata": {},
     "output_type": "execute_result"
    }
   ],
   "source": [
    "b"
   ]
  },
  {
   "cell_type": "code",
   "execution_count": 89,
   "id": "5c71f1f3-5d0d-47d9-b644-0a0e3b913d06",
   "metadata": {},
   "outputs": [
    {
     "data": {
      "text/plain": [
       "tensor([[1],\n",
       "        [2],\n",
       "        [3]])"
      ]
     },
     "execution_count": 89,
     "metadata": {},
     "output_type": "execute_result"
    }
   ],
   "source": [
    "b.T"
   ]
  },
  {
   "cell_type": "code",
   "execution_count": 90,
   "id": "c512f52a-c86d-467f-96be-562e51a3770b",
   "metadata": {},
   "outputs": [
    {
     "data": {
      "text/plain": [
       "tensor([[1],\n",
       "        [2],\n",
       "        [3]])"
      ]
     },
     "execution_count": 90,
     "metadata": {},
     "output_type": "execute_result"
    }
   ],
   "source": [
    "a.reshape(3,1)"
   ]
  },
  {
   "cell_type": "code",
   "execution_count": 91,
   "id": "4b1a314f-6306-4eba-88f5-312f8831390b",
   "metadata": {},
   "outputs": [],
   "source": [
    "x1 = torch.tensor([[5],[6],[7]])\n",
    "x2 = torch.tensor([[6],[7],[5]])"
   ]
  },
  {
   "cell_type": "code",
   "execution_count": 92,
   "id": "d9e52eb5-9824-4524-94d1-a07d9a1e11d7",
   "metadata": {},
   "outputs": [
    {
     "name": "stdout",
     "output_type": "stream",
     "text": [
      "x1= tensor([[5],\n",
      "        [6],\n",
      "        [7]])\n"
     ]
    }
   ],
   "source": [
    "print('x1=', x1)"
   ]
  },
  {
   "cell_type": "code",
   "execution_count": 93,
   "id": "c1f6f1fc-2e6f-4451-ac10-25e4c86557c8",
   "metadata": {},
   "outputs": [
    {
     "name": "stdout",
     "output_type": "stream",
     "text": [
      "x2= tensor([[6],\n",
      "        [7],\n",
      "        [5]])\n"
     ]
    }
   ],
   "source": [
    "print('x2=',x2)"
   ]
  },
  {
   "cell_type": "code",
   "execution_count": 94,
   "id": "b79875ea-fded-4847-9041-91132350e240",
   "metadata": {},
   "outputs": [
    {
     "data": {
      "text/plain": [
       "torch.Size([3, 1])"
      ]
     },
     "execution_count": 94,
     "metadata": {},
     "output_type": "execute_result"
    }
   ],
   "source": [
    "x2.shape"
   ]
  },
  {
   "cell_type": "code",
   "execution_count": 103,
   "id": "b811e91a-2ab5-41fa-9255-b2762c087aa9",
   "metadata": {},
   "outputs": [],
   "source": [
    "x1T = x1.T\n",
    "x2T = x2.T"
   ]
  },
  {
   "cell_type": "code",
   "execution_count": 104,
   "id": "f60dc3d5-a85e-407f-9048-c0038201cc69",
   "metadata": {},
   "outputs": [
    {
     "data": {
      "text/plain": [
       "tensor([[6, 7, 5]])"
      ]
     },
     "execution_count": 104,
     "metadata": {},
     "output_type": "execute_result"
    }
   ],
   "source": [
    "x1T\n",
    "x2T"
   ]
  },
  {
   "cell_type": "code",
   "execution_count": 106,
   "id": "6a9157a6-7e46-4818-9307-c5e89a9c7638",
   "metadata": {},
   "outputs": [
    {
     "data": {
      "text/plain": [
       "tensor([[5, 6, 7]])"
      ]
     },
     "execution_count": 106,
     "metadata": {},
     "output_type": "execute_result"
    }
   ],
   "source": [
    "x1TT = x1.reshape(1,3) # 전치 대신 reshape 해도 된다.\n",
    "x1TT"
   ]
  },
  {
   "cell_type": "code",
   "execution_count": 107,
   "id": "7358b9a3-d1d1-421b-8ea3-728b86a4bafa",
   "metadata": {},
   "outputs": [
    {
     "data": {
      "text/plain": [
       "tensor([[5, 6, 7],\n",
       "        [6, 7, 5]])"
      ]
     },
     "execution_count": 107,
     "metadata": {},
     "output_type": "execute_result"
    }
   ],
   "source": [
    "# vstack : vertical(수직), stack(쌓다)\n",
    "X = torch.vstack([x1.T, x2.T])\n",
    "X"
   ]
  },
  {
   "cell_type": "code",
   "execution_count": 108,
   "id": "d33e01a5-1636-4f4a-b636-6ea7b4d109a4",
   "metadata": {},
   "outputs": [],
   "source": [
    "# hstack : horizonta(수평), stack(쌓다)\n",
    "Xhstack = torch.hstack([x1T, x2T])"
   ]
  },
  {
   "cell_type": "code",
   "execution_count": 109,
   "id": "46e8a96b-37cc-4ba8-9571-d8a2f36db567",
   "metadata": {},
   "outputs": [
    {
     "data": {
      "text/plain": [
       "tensor([[5, 6, 7, 6, 7, 5]])"
      ]
     },
     "execution_count": 109,
     "metadata": {},
     "output_type": "execute_result"
    }
   ],
   "source": [
    "Xhstack"
   ]
  },
  {
   "cell_type": "code",
   "execution_count": 110,
   "id": "d52d60d2-7697-4eca-ab43-2f73161d3a50",
   "metadata": {},
   "outputs": [],
   "source": [
    "Xhstack2 = torch.hstack([x1, x2])"
   ]
  },
  {
   "cell_type": "code",
   "execution_count": 111,
   "id": "e7485077-c1ad-48d2-95a8-d49431f7e5ad",
   "metadata": {},
   "outputs": [
    {
     "data": {
      "text/plain": [
       "tensor([[5, 6],\n",
       "        [6, 7],\n",
       "        [7, 5]])"
      ]
     },
     "execution_count": 111,
     "metadata": {},
     "output_type": "execute_result"
    }
   ],
   "source": [
    "Xhstack2"
   ]
  },
  {
   "cell_type": "code",
   "execution_count": 112,
   "id": "5a7ac9ba-15ea-4d93-b6cc-de8406342717",
   "metadata": {},
   "outputs": [],
   "source": [
    "# sequential Generaton "
   ]
  },
  {
   "cell_type": "code",
   "execution_count": 114,
   "id": "d993e168-e3b4-429c-a000-d58615cef42f",
   "metadata": {},
   "outputs": [],
   "source": [
    "zvec = torch.zeros((1,3))"
   ]
  },
  {
   "cell_type": "code",
   "execution_count": 115,
   "id": "0c2b1089-7c9b-493d-9598-b209eacd700b",
   "metadata": {},
   "outputs": [
    {
     "data": {
      "text/plain": [
       "tensor([[0., 0., 0.]])"
      ]
     },
     "execution_count": 115,
     "metadata": {},
     "output_type": "execute_result"
    }
   ],
   "source": [
    "zvec"
   ]
  },
  {
   "cell_type": "code",
   "execution_count": 116,
   "id": "9a327b3d-799a-46c5-b38a-3476602c3050",
   "metadata": {},
   "outputs": [
    {
     "data": {
      "text/plain": [
       "tensor([0, 1, 2, 3, 4, 5, 6, 7, 8, 9])"
      ]
     },
     "execution_count": 116,
     "metadata": {},
     "output_type": "execute_result"
    }
   ],
   "source": [
    "torch.arange(0,10,1) # 0에서 10까지 1의 간격으로 (10미만)"
   ]
  },
  {
   "cell_type": "code",
   "execution_count": 119,
   "id": "008bdb01-b2c2-4de8-b1ed-a7d12df0bfb9",
   "metadata": {},
   "outputs": [
    {
     "name": "stdout",
     "output_type": "stream",
     "text": [
      "tensor(0)\n",
      "tensor(1)\n",
      "tensor(2)\n",
      "tensor(3)\n",
      "tensor(4)\n",
      "tensor(5)\n",
      "tensor(6)\n",
      "tensor(7)\n",
      "tensor(8)\n",
      "tensor(9)\n"
     ]
    }
   ],
   "source": [
    "for i in torch.arange(10):\n",
    "    print(i)"
   ]
  },
  {
   "cell_type": "code",
   "execution_count": 120,
   "id": "8ab179c4-d4a6-4ba3-bce0-fd9c3f0d0022",
   "metadata": {},
   "outputs": [],
   "source": [
    "a = torch.linspace(0, 4, 10)"
   ]
  },
  {
   "cell_type": "code",
   "execution_count": 121,
   "id": "48c5eb73-5296-4c2c-b67f-6d5294e21fab",
   "metadata": {},
   "outputs": [
    {
     "data": {
      "text/plain": [
       "tensor([0.0000, 0.4444, 0.8889, 1.3333, 1.7778, 2.2222, 2.6667, 3.1111, 3.5556,\n",
       "        4.0000])"
      ]
     },
     "execution_count": 121,
     "metadata": {},
     "output_type": "execute_result"
    }
   ],
   "source": [
    "a"
   ]
  },
  {
   "cell_type": "code",
   "execution_count": 122,
   "id": "1393e9e1-5eca-4df9-bde5-55cefb1ee2f9",
   "metadata": {},
   "outputs": [
    {
     "data": {
      "text/plain": [
       "torch.Size([10])"
      ]
     },
     "execution_count": 122,
     "metadata": {},
     "output_type": "execute_result"
    }
   ],
   "source": [
    "a.shape"
   ]
  },
  {
   "cell_type": "code",
   "execution_count": 123,
   "id": "6742e724-100e-4388-a938-c7eda38651ed",
   "metadata": {},
   "outputs": [],
   "source": [
    "# torch.rand"
   ]
  },
  {
   "cell_type": "code",
   "execution_count": 124,
   "id": "9fe369af-ef0e-4604-bb28-f01ed36b2a3b",
   "metadata": {},
   "outputs": [],
   "source": [
    "d = torch.rand(1,10)*-1"
   ]
  },
  {
   "cell_type": "code",
   "execution_count": 125,
   "id": "5766c886-00cb-4364-b4bf-6bd0921c759e",
   "metadata": {},
   "outputs": [
    {
     "data": {
      "text/plain": [
       "tensor([[-0.0082, -0.4501, -0.7518, -0.1626, -0.9202, -0.0969, -0.1632, -0.4238,\n",
       "         -0.7297, -0.4555]])"
      ]
     },
     "execution_count": 125,
     "metadata": {},
     "output_type": "execute_result"
    }
   ],
   "source": [
    "d"
   ]
  },
  {
   "cell_type": "code",
   "execution_count": 126,
   "id": "c6930fa5-d38e-446a-8f34-0c961e80c1a2",
   "metadata": {},
   "outputs": [],
   "source": [
    "# 매우 중요 !!!!! Gaussian (Normal) random generation"
   ]
  },
  {
   "cell_type": "code",
   "execution_count": 128,
   "id": "0fdf8f9d-7500-475c-a864-5dbc6b8b3bb7",
   "metadata": {},
   "outputs": [
    {
     "data": {
      "text/plain": [
       "1.4142135623730951"
      ]
     },
     "execution_count": 128,
     "metadata": {},
     "output_type": "execute_result"
    }
   ],
   "source": [
    "np.sqrt(2)"
   ]
  },
  {
   "cell_type": "code",
   "execution_count": 129,
   "id": "9bba384c-47f7-4f65-abd3-4712721962b1",
   "metadata": {},
   "outputs": [],
   "source": [
    "e = torch.randn(3,4)"
   ]
  },
  {
   "cell_type": "code",
   "execution_count": 142,
   "id": "474b7d9f-363a-4a6c-a6e3-2ded6e06a840",
   "metadata": {},
   "outputs": [
    {
     "data": {
      "text/plain": [
       "tensor(2.1416)"
      ]
     },
     "execution_count": 142,
     "metadata": {},
     "output_type": "execute_result"
    }
   ],
   "source": [
    "e\n",
    "torch.var(e) # 분산"
   ]
  },
  {
   "cell_type": "code",
   "execution_count": 138,
   "id": "9f2e3e26-2ff5-4063-8e3e-fb473ffbf3f2",
   "metadata": {},
   "outputs": [
    {
     "data": {
      "text/plain": [
       "tensor(2.0584)"
      ]
     },
     "execution_count": 138,
     "metadata": {},
     "output_type": "execute_result"
    }
   ],
   "source": [
    "h = torch.randn(3,4)+2\n",
    "torch.mean(h)"
   ]
  },
  {
   "cell_type": "code",
   "execution_count": 139,
   "id": "0feb4c8e-63b0-473e-8d58-65d96798bd0d",
   "metadata": {},
   "outputs": [],
   "source": [
    "a = 2*np.pi*torch.linspace(0,1, 20)"
   ]
  },
  {
   "cell_type": "code",
   "execution_count": 140,
   "id": "ae9c3633-706e-4ac6-a22c-e758f51c15c1",
   "metadata": {},
   "outputs": [],
   "source": [
    "s = torch.sin(a)"
   ]
  },
  {
   "cell_type": "code",
   "execution_count": 141,
   "id": "0e540a36-ae1c-451e-9638-c3d94bb3a9d0",
   "metadata": {},
   "outputs": [
    {
     "data": {
      "text/plain": [
       "tensor([ 0.0000e+00,  3.2470e-01,  6.1421e-01,  8.3717e-01,  9.6940e-01,\n",
       "         9.9658e-01,  9.1577e-01,  7.3572e-01,  4.7595e-01,  1.6459e-01,\n",
       "        -1.6459e-01, -4.7595e-01, -7.3572e-01, -9.1577e-01, -9.9658e-01,\n",
       "        -9.6940e-01, -8.3717e-01, -6.1421e-01, -3.2470e-01,  1.7485e-07])"
      ]
     },
     "execution_count": 141,
     "metadata": {},
     "output_type": "execute_result"
    }
   ],
   "source": [
    "s"
   ]
  },
  {
   "cell_type": "code",
   "execution_count": 146,
   "id": "e2218749-f702-4042-a5da-69740bb42a62",
   "metadata": {},
   "outputs": [
    {
     "data": {
      "text/plain": [
       "3.141592653589793"
      ]
     },
     "execution_count": 146,
     "metadata": {},
     "output_type": "execute_result"
    }
   ],
   "source": [
    "np.pi\n",
    "torch.pi"
   ]
  },
  {
   "cell_type": "code",
   "execution_count": 152,
   "id": "d101b95f-274b-47e4-9e67-a25d51b3456d",
   "metadata": {},
   "outputs": [],
   "source": [
    "import matplotlib.pyplot as plt"
   ]
  },
  {
   "cell_type": "code",
   "execution_count": 158,
   "id": "670af254-5bb8-4c4c-8380-09f0ef78a404",
   "metadata": {},
   "outputs": [
    {
     "data": {
      "text/plain": [
       "[<matplotlib.lines.Line2D at 0x1d98110fb50>]"
      ]
     },
     "execution_count": 158,
     "metadata": {},
     "output_type": "execute_result"
    },
    {
     "data": {
      "image/png": "[encoded data removed]",
      "text/plain": [
       "<Figure size 432x288 with 1 Axes>"
      ]
     },
     "metadata": {
      "needs_background": "light"
     },
     "output_type": "display_data"
    }
   ],
   "source": [
    "plt.plot(a, s) # x축 = a에 대해서, y축 = s에 대해서 "
   ]
  },
  {
   "cell_type": "code",
   "execution_count": 159,
   "id": "d54d8442-48e4-4784-897a-888d4aa04619",
   "metadata": {},
   "outputs": [
    {
     "data": {
      "image/png": "[encoded data removed]",
      "text/plain": [
       "<Figure size 432x288 with 1 Axes>"
      ]
     },
     "metadata": {
      "needs_background": "light"
     },
     "output_type": "display_data"
    }
   ],
   "source": [
    "anp = a.numpy()\n",
    "snp = s.numpy()\n",
    "plt.plot(anp, snp)\n",
    "plt.grid()"
   ]
  },
  {
   "cell_type": "code",
   "execution_count": 144,
   "id": "ab95f045-e12c-4aaf-90de-eab5e6a730a3",
   "metadata": {},
   "outputs": [],
   "source": [
    "# torch.sqrt() -> error , input으로 tensor만 받음."
   ]
  },
  {
   "cell_type": "code",
   "execution_count": 147,
   "id": "3663fa0c-1816-40e4-8041-4a73346e59f1",
   "metadata": {},
   "outputs": [],
   "source": [
    "# 차원 축소\n",
    "# squeeze()"
   ]
  },
  {
   "cell_type": "code",
   "execution_count": 160,
   "id": "ef2aa30b-1f29-4e4d-8f22-2832c8603e62",
   "metadata": {},
   "outputs": [],
   "source": [
    "f = torch.tensor([[[1,2,3,4]]])"
   ]
  },
  {
   "cell_type": "code",
   "execution_count": 161,
   "id": "0b15b809-03e5-43e2-871c-5aa5589fe58a",
   "metadata": {},
   "outputs": [
    {
     "data": {
      "text/plain": [
       "torch.Size([1, 1, 4])"
      ]
     },
     "execution_count": 161,
     "metadata": {},
     "output_type": "execute_result"
    }
   ],
   "source": [
    "f.shape"
   ]
  },
  {
   "cell_type": "code",
   "execution_count": 162,
   "id": "fe807ab8-90af-4200-80c4-b95b42369f2a",
   "metadata": {},
   "outputs": [
    {
     "data": {
      "text/plain": [
       "torch.Size([4])"
      ]
     },
     "execution_count": 162,
     "metadata": {},
     "output_type": "execute_result"
    }
   ],
   "source": [
    "f.squeeze().shape"
   ]
  },
  {
   "cell_type": "code",
   "execution_count": 165,
   "id": "dfd4a274-46e5-4aa5-9769-5d6e3937d5b6",
   "metadata": {},
   "outputs": [],
   "source": [
    "A = torch.arange(0,6).reshape(3,2)"
   ]
  },
  {
   "cell_type": "code",
   "execution_count": 166,
   "id": "65fc6c96-254d-414f-9fe9-6f965a86e334",
   "metadata": {},
   "outputs": [
    {
     "data": {
      "text/plain": [
       "tensor([[0, 1],\n",
       "        [2, 3],\n",
       "        [4, 5]])"
      ]
     },
     "execution_count": 166,
     "metadata": {},
     "output_type": "execute_result"
    }
   ],
   "source": [
    "A"
   ]
  },
  {
   "cell_type": "code",
   "execution_count": 167,
   "id": "55ceec92-08a4-4ee8-ac2b-2353c64a257f",
   "metadata": {},
   "outputs": [],
   "source": [
    "B = torch.randn(3,2)"
   ]
  },
  {
   "cell_type": "code",
   "execution_count": 168,
   "id": "16bdfdf0-2cd1-4778-83f9-38592811cdd6",
   "metadata": {},
   "outputs": [
    {
     "data": {
      "text/plain": [
       "tensor([[-0.2024,  0.5211],\n",
       "        [ 1.6483, -0.4545],\n",
       "        [-1.2869,  1.4892]])"
      ]
     },
     "execution_count": 168,
     "metadata": {},
     "output_type": "execute_result"
    }
   ],
   "source": [
    "B"
   ]
  },
  {
   "cell_type": "code",
   "execution_count": 169,
   "id": "838702b0-c332-49d4-9939-ef0ae3a02379",
   "metadata": {},
   "outputs": [
    {
     "data": {
      "text/plain": [
       "tensor([[-0.2024,  1.5211],\n",
       "        [ 3.6483,  2.5455],\n",
       "        [ 2.7131,  6.4892]])"
      ]
     },
     "execution_count": 169,
     "metadata": {},
     "output_type": "execute_result"
    }
   ],
   "source": [
    "A+B"
   ]
  },
  {
   "cell_type": "code",
   "execution_count": 170,
   "id": "2365589b-8faf-409d-baa9-9b2ff05bf170",
   "metadata": {},
   "outputs": [],
   "source": [
    "a1 = A[:, 0].reshape(3,1)"
   ]
  },
  {
   "cell_type": "code",
   "execution_count": 176,
   "id": "3131c5f9-ed70-48ef-be80-358daa8e8ceb",
   "metadata": {},
   "outputs": [],
   "source": [
    "a1 # 3by1 column vector tensor\n",
    "a1 = a1.type(torch.float32)"
   ]
  },
  {
   "cell_type": "code",
   "execution_count": 172,
   "id": "087633a2-0584-4577-b854-2308d212d3e3",
   "metadata": {},
   "outputs": [],
   "source": [
    "b2 = B[:, 1].reshape(-1,1)"
   ]
  },
  {
   "cell_type": "code",
   "execution_count": 173,
   "id": "5d1ad50b-8c7c-4f0f-be99-86d2c28fcfbb",
   "metadata": {},
   "outputs": [
    {
     "data": {
      "text/plain": [
       "tensor([[ 0.5211],\n",
       "        [-0.4545],\n",
       "        [ 1.4892]])"
      ]
     },
     "execution_count": 173,
     "metadata": {},
     "output_type": "execute_result"
    }
   ],
   "source": [
    "b2 # column vector"
   ]
  },
  {
   "cell_type": "code",
   "execution_count": 177,
   "id": "8fe16153-eb9c-47c4-8050-fe23f0d58bf7",
   "metadata": {},
   "outputs": [
    {
     "data": {
      "text/plain": [
       "tensor([[5.0479]])"
      ]
     },
     "execution_count": 177,
     "metadata": {},
     "output_type": "execute_result"
    }
   ],
   "source": [
    "torch.matmul(a1.T, b2)"
   ]
  },
  {
   "cell_type": "code",
   "execution_count": 184,
   "id": "6a524767-a5d6-4ea2-abac-fa2c2d072ab0",
   "metadata": {},
   "outputs": [],
   "source": [
    "a = torch.tensor([1,2,3,4])"
   ]
  },
  {
   "cell_type": "code",
   "execution_count": 185,
   "id": "d7a3a1e7-a6d2-4cc6-bd33-b16da6de6cc1",
   "metadata": {},
   "outputs": [],
   "source": [
    "b = 2*torch.ones(4)"
   ]
  },
  {
   "cell_type": "code",
   "execution_count": 186,
   "id": "1634d627-f4de-4ad5-ba52-26d6ffa38e37",
   "metadata": {},
   "outputs": [],
   "source": [
    "c = a*b"
   ]
  },
  {
   "cell_type": "code",
   "execution_count": 187,
   "id": "a2c53add-772c-42f5-8117-c06f70578b0e",
   "metadata": {},
   "outputs": [
    {
     "data": {
      "text/plain": [
       "tensor(20.)"
      ]
     },
     "execution_count": 187,
     "metadata": {},
     "output_type": "execute_result"
    }
   ],
   "source": [
    "torch.sum(a*b)"
   ]
  },
  {
   "cell_type": "code",
   "execution_count": 188,
   "id": "2683803c-2698-47e8-b11f-bf16903435c6",
   "metadata": {},
   "outputs": [
    {
     "data": {
      "text/plain": [
       "torch.float32"
      ]
     },
     "execution_count": 188,
     "metadata": {},
     "output_type": "execute_result"
    }
   ],
   "source": [
    "b.reshape(-1,1).dtype"
   ]
  },
  {
   "cell_type": "code",
   "execution_count": 189,
   "id": "25e152c8-dc8b-436a-a85c-e236e2226f43",
   "metadata": {},
   "outputs": [
    {
     "data": {
      "text/plain": [
       "tensor([20.])"
      ]
     },
     "execution_count": 189,
     "metadata": {},
     "output_type": "execute_result"
    }
   ],
   "source": [
    "torch.matmul(a.type(torch.float), b.reshape(-1,1))"
   ]
  },
  {
   "cell_type": "code",
   "execution_count": 196,
   "id": "6e14db60-9d84-48e9-a963-e9fecb1b71e9",
   "metadata": {},
   "outputs": [],
   "source": [
    "A = torch.arange(3, 11, 1).reshape(2, 4)"
   ]
  },
  {
   "cell_type": "code",
   "execution_count": 197,
   "id": "73a3de0e-c3d5-4006-a0a0-6d11b0ae4786",
   "metadata": {},
   "outputs": [
    {
     "data": {
      "text/plain": [
       "tensor([[ 3,  4,  5,  6],\n",
       "        [ 7,  8,  9, 10]])"
      ]
     },
     "execution_count": 197,
     "metadata": {},
     "output_type": "execute_result"
    }
   ],
   "source": [
    "A"
   ]
  },
  {
   "cell_type": "code",
   "execution_count": 198,
   "id": "a714ef91-cc35-404e-97f1-252b8e0609fc",
   "metadata": {},
   "outputs": [],
   "source": [
    "c = torch.sum(A, axis= 1).reshape(-1,1) # axis=0 : 위에서 아래로 더할때 사용 "
   ]
  },
  {
   "cell_type": "code",
   "execution_count": 199,
   "id": "cdbade47-d16a-4539-8c48-4f5e6630248c",
   "metadata": {},
   "outputs": [
    {
     "data": {
      "text/plain": [
       "tensor([[18],\n",
       "        [34]])"
      ]
     },
     "execution_count": 199,
     "metadata": {},
     "output_type": "execute_result"
    }
   ],
   "source": [
    "c"
   ]
  },
  {
   "cell_type": "code",
   "execution_count": 200,
   "id": "536f152f-6136-4013-863f-bb337902525e",
   "metadata": {},
   "outputs": [
    {
     "data": {
      "text/plain": [
       "tensor([[18, 34]])"
      ]
     },
     "execution_count": 200,
     "metadata": {},
     "output_type": "execute_result"
    }
   ],
   "source": [
    "c.T"
   ]
  },
  {
   "cell_type": "code",
   "execution_count": 204,
   "id": "6ea208b9-339c-4318-9da6-a1ec13b614d9",
   "metadata": {},
   "outputs": [],
   "source": [
    "c = torch.mean(A.type(torch.float32), axis = 0).reshape(-1,1)"
   ]
  },
  {
   "cell_type": "code",
   "execution_count": 205,
   "id": "11f17e50-3849-46cf-9cdd-aa738f1834c7",
   "metadata": {},
   "outputs": [
    {
     "data": {
      "text/plain": [
       "tensor([[5.],\n",
       "        [6.],\n",
       "        [7.],\n",
       "        [8.]])"
      ]
     },
     "execution_count": 205,
     "metadata": {},
     "output_type": "execute_result"
    }
   ],
   "source": [
    "c"
   ]
  },
  {
   "cell_type": "code",
   "execution_count": 206,
   "id": "33315d14-ceab-4356-8e1b-7bf581526fd0",
   "metadata": {},
   "outputs": [],
   "source": [
    "c = torch.prod(A.type(torch.float32), axis = 0).reshape(-1,1) # 곱"
   ]
  },
  {
   "cell_type": "code",
   "execution_count": 207,
   "id": "e886724b-1cf5-4bfa-b4c9-7ceee142a4fe",
   "metadata": {},
   "outputs": [
    {
     "data": {
      "text/plain": [
       "tensor([[21.],\n",
       "        [32.],\n",
       "        [45.],\n",
       "        [60.]])"
      ]
     },
     "execution_count": 207,
     "metadata": {},
     "output_type": "execute_result"
    }
   ],
   "source": [
    "c"
   ]
  },
  {
   "cell_type": "code",
   "execution_count": null,
   "id": "0dd5ec6a-a678-4203-ba20-8fad1cbcc578",
   "metadata": {},
   "outputs": [],
   "source": [
    "# bradcasting"
   ]
  }
 ],
 "metadata": {
  "kernelspec": {
   "display_name": "Python 3 (ipykernel)",
   "language": "python",
   "name": "python3"
  },
  "language_info": {
   "codemirror_mode": {
    "name": "ipython",
    "version": 3
   },
   "file_extension": ".py",
   "mimetype": "text/x-python",
   "name": "python",
   "nbconvert_exporter": "python",
   "pygments_lexer": "ipython3",
   "version": "3.9.7"
  }
 },
 "nbformat": 4,
 "nbformat_minor": 5
}
